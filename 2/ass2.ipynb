{
 "metadata": {
  "language_info": {
   "codemirror_mode": {
    "name": "ipython",
    "version": 3
   },
   "file_extension": ".py",
   "mimetype": "text/x-python",
   "name": "python",
   "nbconvert_exporter": "python",
   "pygments_lexer": "ipython3",
   "version": "3.7.5-final"
  },
  "orig_nbformat": 2,
  "kernelspec": {
   "name": "python375jvsc74a57bd0c7a92eff8b900e633770213ae3a2c6e85ee2848f6f5e1817c5a6462f1fd1b026",
   "display_name": "Python 3.7.5 64-bit (conda)"
  }
 },
 "nbformat": 4,
 "nbformat_minor": 2,
 "cells": [
  {
   "cell_type": "code",
   "execution_count": 1,
   "metadata": {},
   "outputs": [],
   "source": [
    "from bitarray import bitarray\n",
    "import math\n",
    "import hashlib"
   ]
  },
  {
   "cell_type": "code",
   "execution_count": 2,
   "metadata": {},
   "outputs": [
    {
     "output_type": "stream",
     "name": "stdout",
     "text": [
      "4 items skal bruge 24.894305826551207 bits.\nAdding Mads\nAdding Claus\nAdding Kurt\nAdding Sonja\nChecking mads: False\nChecking MADS: False\nChecking Mads: True\nChecking claus: False\nChecking CLAUS: False\nChecking Claus: True\nChecking kurt: False\nChecking KURT: False\nChecking Kurt: True\nChecking sonja: False\nChecking SONJA: True\nChecking Sonja: True\n"
     ]
    }
   ],
   "source": [
    "class BloomFilter(object):\n",
    "    def __init__(self, no_items:int, fp_probability:float):\n",
    "        \"\"\"\n",
    "        no_items : int\n",
    "            Number of items expected to be stored in the filter.\n",
    "        fp_probability : float\n",
    "            False positive probability in decimal, e.g. 5% = 0.05\n",
    "        \"\"\"\n",
    "        self.no_items = no_items\n",
    "        self.fp_probability = fp_probability\n",
    "        self.size = self.get_size(no_items, fp_probability)\n",
    "        self.bit_array = bitarray(self.size)\n",
    "        self.bit_array.setall(0)\n",
    "\n",
    "    def get_size(self, n:int, fpp:float) -> int:\n",
    "        m = 1.44*math.log2(1/fpp)*n\n",
    "        print(str(n) + \" items skal bruge \" + str(m) + \" bits.\")\n",
    "        return math.ceil(m)\n",
    "\n",
    "\n",
    "    def __hash__(self, item:str):\n",
    "        hex = hashlib.md5(item.encode())       \n",
    "        return hex\n",
    "\n",
    "    def __indexof__(self, hexdigest:str)->int:\n",
    "        index = int(hexdigest, 16) % self.size      \n",
    "        return index\n",
    "\n",
    "    def check(self, item:str) -> bool:\n",
    "        hash = self.__hash__(item).hexdigest()\n",
    "        return self.bit_array[self.__indexof__(hash)]\n",
    "\n",
    "    def add(self, item:str):        \n",
    "        hash = self.__hash__(item).hexdigest()\n",
    "        self.bit_array[self.__indexof__(hash)] = True\n",
    "                \n",
    "        \n",
    "names = ['Mads', 'Claus','Kurt', 'Sonja']        \n",
    "b = BloomFilter(len(names), 0.05)\n",
    "\n",
    "for name in names:\n",
    "    print(\"Adding \" + name)\n",
    "    b.add(name)\n",
    "for name in names:    \n",
    "    print('Checking ' + name.lower() + \": \" + str(b.check(name.lower())))\n",
    "    print('Checking ' + name.upper() + \": \" + str(b.check(name.upper())))\n",
    "    print('Checking ' + name + \": \" + str(b.check(name)))"
   ]
  },
  {
   "cell_type": "code",
   "execution_count": 10,
   "metadata": {},
   "outputs": [
    {
     "output_type": "stream",
     "name": "stdout",
     "text": [
      "|tegn|antal|Huffman|\n|:---:|:---:|:---:|\n|u|1||\n|y|1||\n|p|1||\n|v|2||\n|t|2||\n|j|2||\n|æ|2||\n|S|3||\n|g|3||\n|ø|3||\n|r|3||\n|a|4||\n|l|5||\n|i|5||\n|d|7||\n|n|8||\n|e|9||\n|\\_|9||\n|s|12||\nnode \"u 1\"\nnode \"y 1\"\nnode \"p 1\"\nnode \"v 2\"\nnode \"t 2\"\nnode \"j 2\"\nnode \"æ 2\"\nnode \"S 3\"\nnode \"g 3\"\nnode \"ø 3\"\nnode \"r 3\"\nnode \"a 4\"\nnode \"l 5\"\nnode \"i 5\"\nnode \"d 7\"\nnode \"n 8\"\nnode \"e 9\"\nnode \"_ 9\"\nnode \"s 12\"\ndone\n"
     ]
    }
   ],
   "source": [
    "def toMdTable(dict):\n",
    "    print(\"|tegn|antal|Huffman|\")\n",
    "    print(\"|:---:|:---:|:---:|\")\n",
    "    for key in dict:\n",
    "        print(\"|\" + (key if key != \" \" else \"\\\\_\") + \"|\" + str(dict[key]) + \"||\")\n",
    "\n",
    "def toPlantTextNodes(dict):\n",
    "    for key in dict:\n",
    "        print(\"node \\\"\" + (key if key != \" \" else \"_\") + \" \" + str(dict[key]) + \"\\\"\")\n",
    "\n",
    "streng = \"Salige Søren Sivertsen sejlede sin sædvanlige søndagstur sønden sjællands sydspids\"\n",
    "\n",
    "dict_of_chars = {}\n",
    "\n",
    "for char in streng:\n",
    "    dict_of_chars[char] = streng.count(char)\n",
    "\n",
    "sorteret = {k: v for k,v in sorted(dict_of_chars.items(), key=lambda item: item[1])}\n",
    "\n",
    "toMdTable(sorteret)\n",
    "toPlantTextNodes(sorteret)\n",
    "print(\"done\")"
   ]
  }
 ]
}